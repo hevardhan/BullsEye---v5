{
 "cells": [
  {
   "cell_type": "markdown",
   "metadata": {},
   "source": [
    "# WEEKLY DATA - m1"
   ]
  },
  {
   "cell_type": "code",
   "execution_count": 28,
   "metadata": {},
   "outputs": [
    {
     "name": "stdout",
     "output_type": "stream",
     "text": [
      "Saved data for week 1 to datasets/weekly/july-week1.csv\n",
      "Saved data for week 2 to datasets/weekly/july-week2.csv\n",
      "Saved data for week 3 to datasets/weekly/july-week3.csv\n",
      "Saved data for week 4 to datasets/weekly/july-week4.csv\n",
      "Saved data for week 5 to datasets/weekly/july-week5.csv\n",
      "Saved data for week 6 to datasets/weekly/aug-week6.csv\n",
      "Saved data for week 7 to datasets/weekly/aug-week7.csv\n",
      "Saved data for week 8 to datasets/weekly/aug-week8.csv\n",
      "Saved data for week 9 to datasets/weekly/aug-week9.csv\n",
      "Saved data for week 10 to datasets/weekly/aug-week10.csv\n",
      "Saved data for week 11 to datasets/weekly/aug-week11.csv\n"
     ]
    },
    {
     "data": {
      "text/plain": [
       "True"
      ]
     },
     "execution_count": 28,
     "metadata": {},
     "output_type": "execute_result"
    }
   ],
   "source": [
    "import MetaTrader5 as mt5\n",
    "import pytz\n",
    "from datetime import datetime, timedelta\n",
    "import pandas as pd\n",
    "\n",
    "# Initialize MetaTrader5 connection\n",
    "mt5.initialize()\n",
    "\n",
    "# Define timezone\n",
    "timezone = pytz.timezone(\"Etc/UTC\")\n",
    "\n",
    "# Set the starting date (July 1, 2024)\n",
    "start_date = datetime(2024, 7, 1, tzinfo=timezone)\n",
    "\n",
    "# Set the end date (today's date)\n",
    "end_date = datetime.now(tz=timezone)\n",
    "\n",
    "# Loop through each week\n",
    "week_num = 1\n",
    "current_date = start_date\n",
    "while current_date < end_date:\n",
    "    # Set the date range for each week (7 days)\n",
    "    utc_from = current_date\n",
    "    utc_to = utc_from + timedelta(days=7)\n",
    "    \n",
    "    # Copy rates for the given week\n",
    "    rates = mt5.copy_rates_range(\"EURUSD\", mt5.TIMEFRAME_M1, utc_from, utc_to)\n",
    "    \n",
    "    # If data is available for this week\n",
    "    if rates is not None and len(rates) > 0:\n",
    "        # Create a DataFrame\n",
    "        rates_frame = pd.DataFrame(rates)\n",
    "        \n",
    "        # Convert time in seconds into the 'datetime' format\n",
    "        rates_frame['time'] = pd.to_datetime(rates_frame['time'], unit='s')\n",
    "        \n",
    "        # Create filename with week number\n",
    "        filename = f\"datasets/weekly/july-week{week_num}.csv\" if current_date.month == 7 else f\"datasets/weekly/aug-week{week_num}.csv\"\n",
    "        \n",
    "        # Save DataFrame to CSV\n",
    "        rates_frame.to_csv(filename, index=False)\n",
    "        \n",
    "        print(f\"Saved data for week {week_num} to {filename}\")\n",
    "    \n",
    "    # Move to the next week\n",
    "    current_date = utc_to\n",
    "    week_num += 1\n",
    "\n",
    "# Shutdown MetaTrader5 connection\n",
    "mt5.shutdown()\n"
   ]
  },
  {
   "cell_type": "markdown",
   "metadata": {},
   "source": [
    "# Monthly data - m30"
   ]
  },
  {
   "cell_type": "code",
   "execution_count": 1,
   "metadata": {},
   "outputs": [
    {
     "name": "stdout",
     "output_type": "stream",
     "text": [
      "Data for EURUSD in 2024-01 saved as datasets/monthly/EURUSD_2024_01.csv\n",
      "Data for EURUSD in 2024-02 saved as datasets/monthly/EURUSD_2024_02.csv\n",
      "Data for EURUSD in 2024-03 saved as datasets/monthly/EURUSD_2024_03.csv\n",
      "Data for EURUSD in 2024-04 saved as datasets/monthly/EURUSD_2024_04.csv\n",
      "Data for EURUSD in 2024-05 saved as datasets/monthly/EURUSD_2024_05.csv\n",
      "Data for EURUSD in 2024-06 saved as datasets/monthly/EURUSD_2024_06.csv\n",
      "Data for EURUSD in 2024-07 saved as datasets/monthly/EURUSD_2024_07.csv\n",
      "Data for EURUSD in 2024-08 saved as datasets/monthly/EURUSD_2024_08.csv\n"
     ]
    },
    {
     "data": {
      "text/plain": [
       "True"
      ]
     },
     "execution_count": 1,
     "metadata": {},
     "output_type": "execute_result"
    }
   ],
   "source": [
    "import MetaTrader5 as mt5\n",
    "import pandas as pd\n",
    "import pytz\n",
    "from datetime import datetime\n",
    "\n",
    "# Initialize MetaTrader 5\n",
    "if not mt5.initialize():\n",
    "    print(\"MetaTrader 5 initialization failed\")\n",
    "    quit()\n",
    "\n",
    "# Define time zone (UTC)\n",
    "timezone = pytz.timezone(\"Etc/UTC\")\n",
    "\n",
    "# Function to fetch monthly data and save as CSV\n",
    "def fetch_monthly_data(symbol, year, month):\n",
    "    # First day of the month\n",
    "    utc_from = datetime(year, month, 1, tzinfo=timezone)\n",
    "    \n",
    "    # Find the first day of the next month to set the end date\n",
    "    if month == 12:\n",
    "        next_month = 1\n",
    "        next_year = year + 1\n",
    "    else:\n",
    "        next_month = month + 1\n",
    "        next_year = year\n",
    "    \n",
    "    utc_to = datetime(next_year, next_month, 1, tzinfo=timezone)\n",
    "    \n",
    "    # Fetch rates for the month\n",
    "    rates = mt5.copy_rates_range(symbol, mt5.TIMEFRAME_M1, utc_from, utc_to)\n",
    "    \n",
    "    # Convert rates into a pandas DataFrame\n",
    "    rates_frame = pd.DataFrame(rates)\n",
    "    rates_frame['time'] = pd.to_datetime(rates_frame['time'], unit='s')\n",
    "    \n",
    "    # Save DataFrame to CSV file\n",
    "    filename = f\"datasets/monthly/{symbol}_{year}_{month:02d}.csv\"\n",
    "    rates_frame.to_csv(filename, index=False)\n",
    "    print(f\"Data for {symbol} in {year}-{month:02d} saved as {filename}\")\n",
    "\n",
    "# Fetch data for each month from January to August 2024\n",
    "symbol = \"EURUSD\"\n",
    "for month in range(1, 9):  # Loop from month 1 (Jan) to 8 (Aug)\n",
    "    fetch_monthly_data(symbol, 2024, month)\n",
    "\n",
    "# Shutdown MetaTrader 5 after fetching data\n",
    "mt5.shutdown()\n"
   ]
  },
  {
   "cell_type": "markdown",
   "metadata": {},
   "source": [
    "# Yearly data - h4"
   ]
  },
  {
   "cell_type": "code",
   "execution_count": 3,
   "metadata": {},
   "outputs": [
    {
     "name": "stdout",
     "output_type": "stream",
     "text": [
      "Data for EURUSD in 2014 saved as datasets/yearly/EURUSD_2014.csv\n",
      "Data for EURUSD in 2015 saved as datasets/yearly/EURUSD_2015.csv\n",
      "Data for EURUSD in 2016 saved as datasets/yearly/EURUSD_2016.csv\n",
      "Data for EURUSD in 2017 saved as datasets/yearly/EURUSD_2017.csv\n",
      "Data for EURUSD in 2018 saved as datasets/yearly/EURUSD_2018.csv\n",
      "Data for EURUSD in 2019 saved as datasets/yearly/EURUSD_2019.csv\n",
      "Data for EURUSD in 2020 saved as datasets/yearly/EURUSD_2020.csv\n",
      "Data for EURUSD in 2021 saved as datasets/yearly/EURUSD_2021.csv\n",
      "Data for EURUSD in 2022 saved as datasets/yearly/EURUSD_2022.csv\n",
      "Data for EURUSD in 2023 saved as datasets/yearly/EURUSD_2023.csv\n"
     ]
    },
    {
     "data": {
      "text/plain": [
       "True"
      ]
     },
     "execution_count": 3,
     "metadata": {},
     "output_type": "execute_result"
    }
   ],
   "source": [
    "import MetaTrader5 as mt5\n",
    "import pandas as pd\n",
    "import pytz\n",
    "from datetime import datetime\n",
    "\n",
    "# Initialize MetaTrader 5\n",
    "if not mt5.initialize():\n",
    "    print(\"MetaTrader 5 initialization failed\")\n",
    "    quit()\n",
    "\n",
    "# Define time zone (UTC)\n",
    "timezone = pytz.timezone(\"Etc/UTC\")\n",
    "\n",
    "# Function to fetch yearly data and save as CSV\n",
    "def fetch_yearly_data(symbol, year):\n",
    "    # Set the start date (January 1st)\n",
    "    utc_from = datetime(year, 1, 1, tzinfo=timezone)\n",
    "    \n",
    "    # Set the end date (December 31st)\n",
    "    utc_to = datetime(year, 12, 31, 23, 59, 59, tzinfo=timezone)\n",
    "    \n",
    "    # Fetch rates for the year\n",
    "    rates = mt5.copy_rates_range(symbol, mt5.TIMEFRAME_M1, utc_from, utc_to)\n",
    "    \n",
    "    # Convert rates into a pandas DataFrame\n",
    "    rates_frame = pd.DataFrame(rates)\n",
    "    rates_frame['time'] = pd.to_datetime(rates_frame['time'], unit='s')\n",
    "    \n",
    "    # Save DataFrame to CSV file\n",
    "    filename = f\"datasets/yearly/{symbol}_{year}.csv\"\n",
    "    rates_frame.to_csv(filename, index=False)\n",
    "    print(f\"Data for {symbol} in {year} saved as {filename}\")\n",
    "\n",
    "# Loop through the last 10 years (from 2014 to 2023)\n",
    "symbol = \"EURUSD\"\n",
    "for year in range(2014, 2024):  # Range is inclusive of 2014 to 2023\n",
    "    fetch_yearly_data(symbol, year)\n",
    "\n",
    "# Shutdown MetaTrader 5 after fetching data\n",
    "mt5.shutdown()\n"
   ]
  }
 ],
 "metadata": {
  "kernelspec": {
   "display_name": "Python 3",
   "language": "python",
   "name": "python3"
  },
  "language_info": {
   "codemirror_mode": {
    "name": "ipython",
    "version": 3
   },
   "file_extension": ".py",
   "mimetype": "text/x-python",
   "name": "python",
   "nbconvert_exporter": "python",
   "pygments_lexer": "ipython3",
   "version": "3.10.6"
  }
 },
 "nbformat": 4,
 "nbformat_minor": 2
}

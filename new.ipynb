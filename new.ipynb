{
 "cells": [
  {
   "cell_type": "code",
   "execution_count": 1,
   "metadata": {},
   "outputs": [],
   "source": [
    "import MetaTrader5 as mt5"
   ]
  },
  {
   "cell_type": "code",
   "execution_count": 2,
   "metadata": {},
   "outputs": [
    {
     "data": {
      "text/plain": [
       "True"
      ]
     },
     "execution_count": 2,
     "metadata": {},
     "output_type": "execute_result"
    }
   ],
   "source": [
    "mt5.initialize()"
   ]
  },
  {
   "cell_type": "code",
   "execution_count": 4,
   "metadata": {},
   "outputs": [],
   "source": [
    "import pytz\n",
    "timezone = pytz.timezone(\"Etc/UTC\")\n"
   ]
  },
  {
   "cell_type": "code",
   "execution_count": 6,
   "metadata": {},
   "outputs": [],
   "source": [
    "from datetime import datetime"
   ]
  },
  {
   "cell_type": "code",
   "execution_count": 8,
   "metadata": {},
   "outputs": [
    {
     "ename": "SystemError",
     "evalue": "<built-in function copy_rates_range> returned a result with an exception set",
     "output_type": "error",
     "traceback": [
      "\u001b[1;31m---------------------------------------------------------------------------\u001b[0m",
      "\u001b[1;31mTypeError\u001b[0m                                 Traceback (most recent call last)",
      "\u001b[1;31mTypeError\u001b[0m: 'datetime.datetime' object cannot be interpreted as an integer",
      "\nThe above exception was the direct cause of the following exception:\n",
      "\u001b[1;31mSystemError\u001b[0m                               Traceback (most recent call last)",
      "Cell \u001b[1;32mIn[8], line 6\u001b[0m\n\u001b[0;32m      4\u001b[0m utc_to \u001b[38;5;241m=\u001b[39m datetime(\u001b[38;5;241m2020\u001b[39m, \u001b[38;5;241m1\u001b[39m, \u001b[38;5;241m11\u001b[39m, tzinfo\u001b[38;5;241m=\u001b[39mtimezone)\n\u001b[0;32m      5\u001b[0m \u001b[38;5;66;03m# request AUDUSD ticks within 11.01.2020 - 11.01.2020\u001b[39;00m\n\u001b[1;32m----> 6\u001b[0m ticks \u001b[38;5;241m=\u001b[39m \u001b[43mmt5\u001b[49m\u001b[38;5;241;43m.\u001b[39;49m\u001b[43mcopy_rates_range\u001b[49m\u001b[43m(\u001b[49m\u001b[38;5;124;43m\"\u001b[39;49m\u001b[38;5;124;43mAUDUSD\u001b[39;49m\u001b[38;5;124;43m\"\u001b[39;49m\u001b[43m,\u001b[49m\u001b[43m \u001b[49m\u001b[43mutc_from\u001b[49m\u001b[43m,\u001b[49m\u001b[43m \u001b[49m\u001b[43mutc_to\u001b[49m\u001b[43m,\u001b[49m\u001b[43mtimezone\u001b[49m\u001b[43m)\u001b[49m\n\u001b[0;32m      7\u001b[0m \u001b[38;5;28mprint\u001b[39m(\u001b[38;5;124m\"\u001b[39m\u001b[38;5;124mTicks received:\u001b[39m\u001b[38;5;124m\"\u001b[39m,\u001b[38;5;28mlen\u001b[39m(ticks))\n",
      "\u001b[1;31mSystemError\u001b[0m: <built-in function copy_rates_range> returned a result with an exception set"
     ]
    }
   ],
   "source": [
    "timezone = pytz.timezone(\"Etc/UTC\")\n",
    "# create 'datetime' objects in UTC time zone to avoid the implementation of a local time zone offset\n",
    "utc_from = datetime(2020, 1, 10, tzinfo=timezone)\n",
    "# request 100 000 EURUSD ticks starting from 10.01.2019 in UTC time zone\n",
    "ticks = mt5.copy_ticks_from(\"EURUSD\", utc_from, 100, mt5.COPY_TICKS_ALL)\n",
    "print(\"Ticks received:\",len(ticks))"
   ]
  },
  {
   "cell_type": "code",
   "execution_count": null,
   "metadata": {},
   "outputs": [],
   "source": []
  }
 ],
 "metadata": {
  "kernelspec": {
   "display_name": "Python 3",
   "language": "python",
   "name": "python3"
  },
  "language_info": {
   "codemirror_mode": {
    "name": "ipython",
    "version": 3
   },
   "file_extension": ".py",
   "mimetype": "text/x-python",
   "name": "python",
   "nbconvert_exporter": "python",
   "pygments_lexer": "ipython3",
   "version": "3.10.6"
  }
 },
 "nbformat": 4,
 "nbformat_minor": 2
}

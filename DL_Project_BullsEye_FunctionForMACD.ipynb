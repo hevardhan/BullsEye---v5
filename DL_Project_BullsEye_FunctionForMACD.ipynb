{
  "nbformat": 4,
  "nbformat_minor": 0,
  "metadata": {
    "colab": {
      "provenance": []
    },
    "kernelspec": {
      "name": "python3",
      "display_name": "Python 3"
    },
    "language_info": {
      "name": "python"
    }
  },
  "cells": [
    {
      "cell_type": "code",
      "execution_count": 1,
      "metadata": {
        "id": "KA25ZzRr0_kK"
      },
      "outputs": [],
      "source": [
        "import pandas as pd\n",
        "\n",
        "def calculate_macd(df, fast_period=12, slow_period=26, signal_period=9):\n",
        "    \"\"\"\n",
        "    Calculate the Fast EMA, Slow EMA, and Signal Line (MACD) for a stock DataFrame.\n",
        "\n",
        "    Parameters:\n",
        "        df (pd.DataFrame): Input DataFrame with columns 'Date', 'Open', 'High', 'Low', 'Close'.\n",
        "        fast_period (int): The period for the Fast EMA. Default is 12.\n",
        "        slow_period (int): The period for the Slow EMA. Default is 26.\n",
        "        signal_period (int): The period for the Signal Line. Default is 9.\n",
        "\n",
        "    Returns:\n",
        "        pd.DataFrame: Original DataFrame with added 'FastEMA', 'SlowEMA', and 'SignalLine' columns.\n",
        "    \"\"\"\n",
        "    # Calculate the Fast EMA and Slow EMA based on the 'Close' price\n",
        "    df['FastEMA'] = df['Close'].ewm(span=fast_period, adjust=False).mean()\n",
        "    df['SlowEMA'] = df['Close'].ewm(span=slow_period, adjust=False).mean()\n",
        "\n",
        "    # Calculate the MACD line\n",
        "    df['MACD'] = df['FastEMA'] - df['SlowEMA']\n",
        "\n",
        "    # Calculate the Signal Line\n",
        "    df['SignalLine'] = df['MACD'].ewm(span=signal_period, adjust=False).mean()\n",
        "\n",
        "    # Drop the temporary MACD column (optional)\n",
        "    df.drop(columns=['MACD'], inplace=True)\n",
        "\n",
        "    return df\n"
      ]
    },
    {
      "cell_type": "code",
      "source": [
        "# Data for the DataFrame\n",
        "data = {\n",
        "    'Date': pd.date_range(start='2023-01-01', periods=10, freq='D'),\n",
        "    'Open': [100, 102, 104, 103, 105, 107, 106, 108, 110, 109],\n",
        "    'High': [101, 103, 105, 104, 106, 108, 107, 109, 111, 110],\n",
        "    'Low': [99, 101, 103, 102, 104, 106, 105, 107, 109, 108],\n",
        "    'Close': [100, 102, 104, 103, 105, 107, 106, 108, 110, 109]\n",
        "}\n",
        "\n",
        "# Creating the DataFrame\n",
        "df_original = pd.DataFrame(data)\n",
        "print(df_original)\n"
      ],
      "metadata": {
        "colab": {
          "base_uri": "https://localhost:8080/"
        },
        "id": "j7vbayYR1Hu9",
        "outputId": "0995c9d7-e5bc-490f-b606-a0d380b7cbf2"
      },
      "execution_count": 2,
      "outputs": [
        {
          "output_type": "stream",
          "name": "stdout",
          "text": [
            "        Date  Open  High  Low  Close\n",
            "0 2023-01-01   100   101   99    100\n",
            "1 2023-01-02   102   103  101    102\n",
            "2 2023-01-03   104   105  103    104\n",
            "3 2023-01-04   103   104  102    103\n",
            "4 2023-01-05   105   106  104    105\n",
            "5 2023-01-06   107   108  106    107\n",
            "6 2023-01-07   106   107  105    106\n",
            "7 2023-01-08   108   109  107    108\n",
            "8 2023-01-09   110   111  109    110\n",
            "9 2023-01-10   109   110  108    109\n"
          ]
        }
      ]
    },
    {
      "cell_type": "code",
      "source": [
        "#Calling the function, storing the called function's return value in a variable\n",
        "\n",
        "df_with_macd = calculate_macd(df_original)\n"
      ],
      "metadata": {
        "id": "36KB-XTW14Ww"
      },
      "execution_count": 3,
      "outputs": []
    },
    {
      "cell_type": "code",
      "source": [
        "print(df_with_macd)"
      ],
      "metadata": {
        "colab": {
          "base_uri": "https://localhost:8080/"
        },
        "id": "PSJtEOH82Kxu",
        "outputId": "e42e874a-fcd6-4fbe-88d8-de421cc17512"
      },
      "execution_count": 4,
      "outputs": [
        {
          "output_type": "stream",
          "name": "stdout",
          "text": [
            "        Date  Open  High  Low  Close     FastEMA     SlowEMA  SignalLine\n",
            "0 2023-01-01   100   101   99    100  100.000000  100.000000    0.000000\n",
            "1 2023-01-02   102   103  101    102  100.307692  100.148148    0.031909\n",
            "2 2023-01-03   104   105  103    104  100.875740  100.433471    0.113981\n",
            "3 2023-01-04   103   104  102    103  101.202549  100.623584    0.206978\n",
            "4 2023-01-05   105   106  104    105  101.786772  100.947763    0.333384\n",
            "5 2023-01-06   107   108  106    107  102.588807  101.396077    0.505253\n",
            "6 2023-01-07   106   107  105    106  103.113606  101.737108    0.679502\n",
            "7 2023-01-08   108   109  107    108  103.865359  102.201026    0.876468\n",
            "8 2023-01-09   110   111  109    110  104.809150  102.778728    1.107259\n",
            "9 2023-01-10   109   110  108    109  105.453896  103.239563    1.328674\n"
          ]
        }
      ]
    }
  ]
}
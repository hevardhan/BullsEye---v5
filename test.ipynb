{
 "cells": [
  {
   "cell_type": "code",
   "execution_count": null,
   "metadata": {},
   "outputs": [],
   "source": [
    "!pip install tensorflow"
   ]
  },
  {
   "cell_type": "code",
   "execution_count": 2,
   "metadata": {},
   "outputs": [],
   "source": [
    "import MetaTrader5 as mt5"
   ]
  },
  {
   "cell_type": "code",
   "execution_count": 3,
   "metadata": {},
   "outputs": [
    {
     "data": {
      "text/plain": [
       "True"
      ]
     },
     "execution_count": 3,
     "metadata": {},
     "output_type": "execute_result"
    }
   ],
   "source": [
    "mt5.initialize()"
   ]
  },
  {
   "cell_type": "code",
   "execution_count": 2,
   "metadata": {},
   "outputs": [
    {
     "name": "stdout",
     "output_type": "stream",
     "text": [
      "                    time     open     high      low    close  tick_volume  \\\n",
      "0    2023-01-02 04:00:00  1.07016  1.07017  1.06909  1.06967          340   \n",
      "1    2023-01-02 08:00:00  1.06971  1.07005  1.06636  1.06784         5790   \n",
      "2    2023-01-02 12:00:00  1.06788  1.06898  1.06749  1.06788         3224   \n",
      "3    2023-01-02 16:00:00  1.06787  1.06819  1.06510  1.06607         5026   \n",
      "4    2023-01-02 20:00:00  1.06604  1.06727  1.06499  1.06665         2361   \n",
      "...                  ...      ...      ...      ...      ...          ...   \n",
      "1549 2023-12-29 04:00:00  1.10788  1.10792  1.10606  1.10660        12650   \n",
      "1550 2023-12-29 08:00:00  1.10660  1.10775  1.10443  1.10491        26954   \n",
      "1551 2023-12-29 12:00:00  1.10491  1.10809  1.10463  1.10486        34033   \n",
      "1552 2023-12-29 16:00:00  1.10487  1.10787  1.10422  1.10640        67685   \n",
      "1553 2023-12-29 20:00:00  1.10640  1.10641  1.10334  1.10360        30542   \n",
      "\n",
      "      spread  real_volume  \n",
      "0          1            0  \n",
      "1          0            0  \n",
      "2          0            0  \n",
      "3          0            0  \n",
      "4          0            0  \n",
      "...      ...          ...  \n",
      "1549       0            0  \n",
      "1550       0            0  \n",
      "1551       0            0  \n",
      "1552       0            0  \n",
      "1553       1            0  \n",
      "\n",
      "[1554 rows x 8 columns]\n"
     ]
    }
   ],
   "source": [
    "#Scrape data\n",
    "\n",
    "import MetaTrader5 as mt5\n",
    "import pandas as pd\n",
    "import datetime\n",
    "import pytz\n",
    "\n",
    "mt5.initialize()\n",
    "timezone = pytz.timezone(\"Etc/UTC\")\n",
    "\n",
    "utc_from = datetime.datetime(2023, 1, 1, tzinfo=timezone)\n",
    "utc_to = datetime.datetime(2023, 12, 31, tzinfo=timezone)\n",
    "\n",
    "rates = mt5.copy_rates_range(\"EURUSD\",mt5.TIMEFRAME_H4,utc_from,utc_to)\n",
    "df = pd.DataFrame(rates)\n",
    "df['time'] = pd.to_datetime(df['time'],unit='s')\n",
    "print(df)"
   ]
  },
  {
   "cell_type": "code",
   "execution_count": 4,
   "metadata": {},
   "outputs": [],
   "source": [
    "df.to_csv(\"EURUSD(2023).csv\")"
   ]
  },
  {
   "cell_type": "code",
   "execution_count": 9,
   "metadata": {},
   "outputs": [],
   "source": [
    "rates = mt5.copy_rates_from_pos(\"EURUSD\",mt5.TIMEFRAME_M30,0,3)"
   ]
  },
  {
   "cell_type": "code",
   "execution_count": 10,
   "metadata": {},
   "outputs": [
    {
     "data": {
      "text/plain": [
       "numpy.ndarray"
      ]
     },
     "execution_count": 10,
     "metadata": {},
     "output_type": "execute_result"
    }
   ],
   "source": [
    "type(rates)"
   ]
  },
  {
   "cell_type": "code",
   "execution_count": 11,
   "metadata": {},
   "outputs": [],
   "source": [
    "import pandas as pd\n",
    "df = pd.DataFrame(rates)\n",
    "df['time'] = pd.to_datetime(df['time'],unit='s')"
   ]
  },
  {
   "cell_type": "code",
   "execution_count": 12,
   "metadata": {},
   "outputs": [
    {
     "data": {
      "text/html": [
       "<div>\n",
       "<style scoped>\n",
       "    .dataframe tbody tr th:only-of-type {\n",
       "        vertical-align: middle;\n",
       "    }\n",
       "\n",
       "    .dataframe tbody tr th {\n",
       "        vertical-align: top;\n",
       "    }\n",
       "\n",
       "    .dataframe thead th {\n",
       "        text-align: right;\n",
       "    }\n",
       "</style>\n",
       "<table border=\"1\" class=\"dataframe\">\n",
       "  <thead>\n",
       "    <tr style=\"text-align: right;\">\n",
       "      <th></th>\n",
       "      <th>time</th>\n",
       "      <th>open</th>\n",
       "      <th>high</th>\n",
       "      <th>low</th>\n",
       "      <th>close</th>\n",
       "      <th>tick_volume</th>\n",
       "      <th>spread</th>\n",
       "      <th>real_volume</th>\n",
       "    </tr>\n",
       "  </thead>\n",
       "  <tbody>\n",
       "    <tr>\n",
       "      <th>0</th>\n",
       "      <td>2024-08-02 22:30:00</td>\n",
       "      <td>1.09153</td>\n",
       "      <td>1.09159</td>\n",
       "      <td>1.09097</td>\n",
       "      <td>1.09128</td>\n",
       "      <td>1135</td>\n",
       "      <td>0</td>\n",
       "      <td>0</td>\n",
       "    </tr>\n",
       "    <tr>\n",
       "      <th>1</th>\n",
       "      <td>2024-08-02 23:00:00</td>\n",
       "      <td>1.09129</td>\n",
       "      <td>1.09149</td>\n",
       "      <td>1.09079</td>\n",
       "      <td>1.09082</td>\n",
       "      <td>594</td>\n",
       "      <td>1</td>\n",
       "      <td>0</td>\n",
       "    </tr>\n",
       "    <tr>\n",
       "      <th>2</th>\n",
       "      <td>2024-08-02 23:30:00</td>\n",
       "      <td>1.09082</td>\n",
       "      <td>1.09122</td>\n",
       "      <td>1.09080</td>\n",
       "      <td>1.09102</td>\n",
       "      <td>781</td>\n",
       "      <td>0</td>\n",
       "      <td>0</td>\n",
       "    </tr>\n",
       "  </tbody>\n",
       "</table>\n",
       "</div>"
      ],
      "text/plain": [
       "                 time     open     high      low    close  tick_volume  \\\n",
       "0 2024-08-02 22:30:00  1.09153  1.09159  1.09097  1.09128         1135   \n",
       "1 2024-08-02 23:00:00  1.09129  1.09149  1.09079  1.09082          594   \n",
       "2 2024-08-02 23:30:00  1.09082  1.09122  1.09080  1.09102          781   \n",
       "\n",
       "   spread  real_volume  \n",
       "0       0            0  \n",
       "1       1            0  \n",
       "2       0            0  "
      ]
     },
     "execution_count": 12,
     "metadata": {},
     "output_type": "execute_result"
    }
   ],
   "source": [
    "df"
   ]
  },
  {
   "cell_type": "code",
   "execution_count": null,
   "metadata": {},
   "outputs": [],
   "source": []
  }
 ],
 "metadata": {
  "kernelspec": {
   "display_name": "Python 3",
   "language": "python",
   "name": "python3"
  },
  "language_info": {
   "codemirror_mode": {
    "name": "ipython",
    "version": 3
   },
   "file_extension": ".py",
   "mimetype": "text/x-python",
   "name": "python",
   "nbconvert_exporter": "python",
   "pygments_lexer": "ipython3",
   "version": "3.10.6"
  }
 },
 "nbformat": 4,
 "nbformat_minor": 2
}
